{
 "cells": [
  {
   "cell_type": "code",
   "execution_count": 1,
   "metadata": {},
   "outputs": [
    {
     "name": "stdout",
     "output_type": "stream",
     "text": [
      "Populating the interactive namespace from numpy and matplotlib\n"
     ]
    }
   ],
   "source": [
    "%pylab inline\n",
    "import nidaqmx"
   ]
  },
  {
   "cell_type": "code",
   "execution_count": 2,
   "metadata": {},
   "outputs": [
    {
     "data": {
      "text/plain": [
       "AOChannel(name=/Dev2/ao0)"
      ]
     },
     "execution_count": 2,
     "metadata": {},
     "output_type": "execute_result"
    }
   ],
   "source": [
    "# create and configure nidaq task\n",
    "DEV = \"Dev2\"\n",
    "CHAN_AOM = \"ao0\"\n",
    "CHAN_TRIG = \"ao1\"\n",
    "VMAX = 5.\n",
    "RATE = 1e3\n",
    "\n",
    "\n",
    "outtask = nidaqmx.Task()\n",
    "\n",
    "outtask.ao_channels.add_ao_voltage_chan(\n",
    "    f\"/{DEV}/{CHAN_AOM}\", \n",
    "    min_val=-VMAX, max_val=VMAX)\n",
    "\n",
    "# outtask.timing.cfg_samp_clk_timing(\n",
    "#     rate=RATE, \n",
    "#     samps_per_chan=1,\n",
    "#     sample_mode=nidaqmx.constants.AcquisitionType.FINITE)"
   ]
  },
  {
   "cell_type": "code",
   "execution_count": 3,
   "metadata": {},
   "outputs": [
    {
     "data": {
      "text/plain": [
       "<bound method Task.stop of Task(name=_unnamedTask<0>)>"
      ]
     },
     "execution_count": 3,
     "metadata": {},
     "output_type": "execute_result"
    }
   ],
   "source": [
    "outtask.write([3.3], timeout=10, auto_start=True)\n",
    "outtask.stop"
   ]
  },
  {
   "cell_type": "code",
   "execution_count": 4,
   "metadata": {},
   "outputs": [
    {
     "data": {
      "text/plain": [
       "<bound method Task.stop of Task(name=_unnamedTask<0>)>"
      ]
     },
     "execution_count": 4,
     "metadata": {},
     "output_type": "execute_result"
    }
   ],
   "source": [
    "outtask.write([0], timeout=10, auto_start=True)\n",
    "outtask.stop"
   ]
  },
  {
   "cell_type": "code",
   "execution_count": 5,
   "metadata": {},
   "outputs": [
    {
     "data": {
      "text/plain": [
       "(94600, 94600)"
      ]
     },
     "execution_count": 5,
     "metadata": {},
     "output_type": "execute_result"
    }
   ],
   "source": [
    "len(wave_aom), len(wave_trig)"
   ]
  },
  {
   "cell_type": "code",
   "execution_count": null,
   "metadata": {},
   "outputs": [],
   "source": []
  }
 ],
 "metadata": {
  "kernelspec": {
   "display_name": "Python 3",
   "language": "python",
   "name": "python3"
  },
  "language_info": {
   "codemirror_mode": {
    "name": "ipython",
    "version": 3
   },
   "file_extension": ".py",
   "mimetype": "text/x-python",
   "name": "python",
   "nbconvert_exporter": "python",
   "pygments_lexer": "ipython3",
   "version": "3.6.8"
  }
 },
 "nbformat": 4,
 "nbformat_minor": 2
}
