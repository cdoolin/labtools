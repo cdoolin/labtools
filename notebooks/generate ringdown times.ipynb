{
 "cells": [
  {
   "cell_type": "code",
   "execution_count": 2,
   "metadata": {},
   "outputs": [
    {
     "name": "stdout",
     "output_type": "stream",
     "text": [
      "Populating the interactive namespace from numpy and matplotlib\n"
     ]
    }
   ],
   "source": [
    "%pylab inline"
   ]
  },
  {
   "cell_type": "code",
   "execution_count": 7,
   "metadata": {},
   "outputs": [
    {
     "data": {
      "text/plain": [
       "array([0.0001    , 0.00017783, 0.00031623, 0.00056234, 0.001     ,\n",
       "       0.00177828, 0.00316228, 0.00562341, 0.01      , 0.01778279,\n",
       "       0.03162278, 0.05623413, 0.1       ])"
      ]
     },
     "execution_count": 7,
     "metadata": {},
     "output_type": "execute_result"
    }
   ],
   "source": [
    "octs = 3\n",
    "end = -1\n",
    "nperoct = 4\n",
    "\n",
    "rings = logspace(end -octs, end, octs*nperoct + 1)\n",
    "rings"
   ]
  },
  {
   "cell_type": "code",
   "execution_count": 8,
   "metadata": {},
   "outputs": [
    {
     "data": {
      "text/plain": [
       "'0.0001\\n0.00017782794100389227\\n0.00031622776601683794\\n0.0005623413251903491\\n0.001\\n0.0017782794100389228\\n0.0031622776601683794\\n0.005623413251903491\\n0.01\\n0.01778279410038923\\n0.03162277660168379\\n0.05623413251903491\\n0.1'"
      ]
     },
     "execution_count": 8,
     "metadata": {},
     "output_type": "execute_result"
    }
   ],
   "source": [
    "'\\n'.join(str(f) for f in rings)"
   ]
  },
  {
   "cell_type": "code",
   "execution_count": 9,
   "metadata": {},
   "outputs": [],
   "source": [
    "with open(\"ringdowns.txt\", 'w') as f:\n",
    "    f.write('\\n'.join(str(f) for f in rings))"
   ]
  },
  {
   "cell_type": "code",
   "execution_count": null,
   "metadata": {},
   "outputs": [],
   "source": []
  }
 ],
 "metadata": {
  "kernelspec": {
   "display_name": "Python 3",
   "language": "python",
   "name": "python3"
  },
  "language_info": {
   "codemirror_mode": {
    "name": "ipython",
    "version": 3
   },
   "file_extension": ".py",
   "mimetype": "text/x-python",
   "name": "python",
   "nbconvert_exporter": "python",
   "pygments_lexer": "ipython3",
   "version": "3.6.8"
  }
 },
 "nbformat": 4,
 "nbformat_minor": 2
}
