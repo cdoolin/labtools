{
 "cells": [
  {
   "cell_type": "code",
   "execution_count": 4,
   "metadata": {},
   "outputs": [],
   "source": [
    "import nidaqmx\n",
    "from numpy import *"
   ]
  },
  {
   "cell_type": "code",
   "execution_count": null,
   "metadata": {},
   "outputs": [],
   "source": [
    "# from Hugh's scripts\n",
    "\n",
    "waveform = [list(waveform[::2]),list(waveform[1::2])]\n",
    "def create_task():\n",
    "    task = nidaqmx.Task()\n",
    "    task.ao_channels.add_ao_voltage_chan(\" /%s/ao1, /%s/ao0\" % ( args.device, args.device), min_val=0, max_val=5)\n",
    "  #  task.ao_channels.add_ao_voltage_chan(\" \", min_val=0, max_val=5)\n",
    "    task.timing.cfg_samp_clk_timing(rate=RATE, samps_per_chan=len(waveform[0]), sample_mode = nidaqmx.constants.AcquisitionType.FINITE)\n",
    "    task.write(waveform, timeout=10, auto_start=False)\n",
    "    return task\n",
    "    \n",
    "def run_task(task):\n",
    "    task.start()\n",
    "    task.wait_until_done()\n",
    "    task.stop()\n",
    "    \n",
    "output_wave =  create_task()\n",
    "\n"
   ]
  },
  {
   "cell_type": "code",
   "execution_count": 5,
   "metadata": {},
   "outputs": [],
   "source": [
    "DEV = \"dev0\"\n",
    "CHAN_MOD = \"ao0\"\n",
    "CHAN_CLK = \"ao1\"\n",
    "\n",
    "\n",
    "RATE = 100\n",
    "VON = 3.3\n",
    "NCLOCK = int(.01 * RATE) # clocked at 100 Hz\n",
    "VMODMAX = 1.\n",
    "VMODMIN = 0"
   ]
  },
  {
   "cell_type": "code",
   "execution_count": 23,
   "metadata": {},
   "outputs": [
    {
     "data": {
      "text/plain": [
       "array([0, 1, 1, 0, 1, 0, 0, 0, 0, 1, 1, 0, 0, 1, 0, 1, 0, 1, 1, 0, 1, 1, 0,\n",
       "       0, 0, 1, 1, 0, 1, 1, 0, 0, 0, 1, 1, 0, 1, 1, 1, 1, 0, 0, 1, 0, 0, 0,\n",
       "       0, 0, 0, 1, 1, 1, 0, 1, 1, 1, 0, 1, 1, 0, 1, 1, 1, 1, 0, 1, 1, 1, 0,\n",
       "       0, 1, 0, 0, 1, 1, 0, 1, 1, 0, 0, 0, 1, 1, 0, 0, 1, 0, 0], dtype=uint8)"
      ]
     },
     "execution_count": 23,
     "metadata": {},
     "output_type": "execute_result"
    }
   ],
   "source": [
    "# create a bit sequence from a string to output\n",
    "text = \"hello world\"\n",
    "text = frombuffer(text.encode(), dtype='uint8')\n",
    "textbits = unpackbits(text)\n",
    "textbits"
   ]
  },
  {
   "cell_type": "code",
   "execution_count": 26,
   "metadata": {},
   "outputs": [
    {
     "data": {
      "text/plain": [
       "array([ 0. ,  0.5,  1. ,  1. ,  1.5,  1.5,  1.5,  1.5,  1.5,  0. ,  0.5,\n",
       "        0.5,  0.5,  1. ,  1. ,  1.5,  1.5,  0. ,  0.5,  0.5,  1. ,  1.5,\n",
       "        1.5,  1.5,  1.5,  0. ,  0.5,  0.5,  1. ,  1.5,  1.5,  1.5,  1.5,\n",
       "        0. ,  0.5,  0.5,  1. ,  1.5,  0. ,  0.5,  0.5,  0.5,  1. ,  1. ,\n",
       "        1. ,  1. ,  1. ,  1. ,  1. ,  1.5,  0. ,  0.5,  0.5,  1. ,  1.5,\n",
       "        0. ,  0. ,  0.5,  1. ,  1. ,  1.5,  0. ,  0.5,  1. ,  1. ,  1.5,\n",
       "        0. ,  0.5,  0.5,  0.5,  1. ,  1. ,  1. ,  1.5,  0. ,  0. ,  0.5,\n",
       "        1. ,  1. ,  1. ,  1. ,  1.5,  0. ,  0. ,  0. ,  0.5,  0.5,  0.5])"
      ]
     },
     "execution_count": 26,
     "metadata": {},
     "output_type": "execute_result"
    }
   ],
   "source": [
    "# differential phase shift\n",
    "# using units of pi\n",
    "dphi = .5\n",
    "dpsk_signal = zeros_like(textbits, dtype=float)\n",
    "for i in range(1, len(textbits)):\n",
    "    dpsk_signal[i] = dpsk_signal[i - 1] + dphi*textbits[i]\n",
    "dpsk_signal = dpsk_signal % 2\n",
    "dpsk_signal"
   ]
  },
  {
   "cell_type": "code",
   "execution_count": 24,
   "metadata": {},
   "outputs": [
    {
     "data": {
      "text/plain": [
       "(array([ 0.,  0.,  1.,  1.,  1.,  1.,  0.,  0.,  1.,  1.,  0.,  0.,  0.,\n",
       "         0.,  0.,  0.,  0.,  0.,  1.,  1.,  1.,  1.,  0.,  0.,  0.,  0.,\n",
       "         1.,  1.,  0.,  0.,  1.,  1.,  0.,  0.,  1.,  1.,  1.,  1.,  0.,\n",
       "         0.,  1.,  1.,  1.,  1.,  0.,  0.,  0.,  0.,  0.,  0.,  1.,  1.,\n",
       "         1.,  1.,  0.,  0.,  1.,  1.,  1.,  1.,  0.,  0.,  0.,  0.,  0.,\n",
       "         0.,  1.,  1.,  1.,  1.,  0.,  0.,  1.,  1.,  1.,  1.,  1.,  1.,\n",
       "         1.,  1.,  0.,  0.,  0.,  0.,  1.,  1.,  0.,  0.,  0.,  0.,  0.,\n",
       "         0.,  0.,  0.,  0.,  0.,  0.,  0.,  1.,  1.,  1.,  1.,  1.,  1.,\n",
       "         0.,  0.,  1.,  1.,  1.,  1.,  1.,  1.,  0.,  0.,  1.,  1.,  1.,\n",
       "         1.,  0.,  0.,  1.,  1.,  1.,  1.,  1.,  1.,  1.,  1.,  0.,  0.,\n",
       "         1.,  1.,  1.,  1.,  1.,  1.,  0.,  0.,  0.,  0.,  1.,  1.,  0.,\n",
       "         0.,  0.,  0.,  1.,  1.,  1.,  1.,  0.,  0.,  1.,  1.,  1.,  1.,\n",
       "         0.,  0.,  0.,  0.,  0.,  0.,  1.,  1.,  1.,  1.,  0.,  0.,  0.,\n",
       "         0.,  1.,  1.,  0.,  0.,  0.,  0.]),\n",
       " array([ 0. ,  3.3,  0. ,  3.3,  0. ,  3.3,  0. ,  3.3,  0. ,  3.3,  0. ,\n",
       "         3.3,  0. ,  3.3,  0. ,  3.3,  0. ,  3.3,  0. ,  3.3,  0. ,  3.3,\n",
       "         0. ,  3.3,  0. ,  3.3,  0. ,  3.3,  0. ,  3.3,  0. ,  3.3,  0. ,\n",
       "         3.3,  0. ,  3.3,  0. ,  3.3,  0. ,  3.3,  0. ,  3.3,  0. ,  3.3,\n",
       "         0. ,  3.3,  0. ,  3.3,  0. ,  3.3,  0. ,  3.3,  0. ,  3.3,  0. ,\n",
       "         3.3,  0. ,  3.3,  0. ,  3.3,  0. ,  3.3,  0. ,  3.3,  0. ,  3.3,\n",
       "         0. ,  3.3,  0. ,  3.3,  0. ,  3.3,  0. ,  3.3,  0. ,  3.3,  0. ,\n",
       "         3.3,  0. ,  3.3,  0. ,  3.3,  0. ,  3.3,  0. ,  3.3,  0. ,  3.3,\n",
       "         0. ,  3.3,  0. ,  3.3,  0. ,  3.3,  0. ,  3.3,  0. ,  3.3,  0. ,\n",
       "         3.3,  0. ,  3.3,  0. ,  3.3,  0. ,  3.3,  0. ,  3.3,  0. ,  3.3,\n",
       "         0. ,  3.3,  0. ,  3.3,  0. ,  3.3,  0. ,  3.3,  0. ,  3.3,  0. ,\n",
       "         3.3,  0. ,  3.3,  0. ,  3.3,  0. ,  3.3,  0. ,  3.3,  0. ,  3.3,\n",
       "         0. ,  3.3,  0. ,  3.3,  0. ,  3.3,  0. ,  3.3,  0. ,  3.3,  0. ,\n",
       "         3.3,  0. ,  3.3,  0. ,  3.3,  0. ,  3.3,  0. ,  3.3,  0. ,  3.3,\n",
       "         0. ,  3.3,  0. ,  3.3,  0. ,  3.3,  0. ,  3.3,  0. ,  3.3,  0. ,\n",
       "         3.3,  0. ,  3.3,  0. ,  3.3,  0. ,  3.3,  0. ,  3.3,  0. ,  3.3]))"
      ]
     },
     "execution_count": 24,
     "metadata": {},
     "output_type": "execute_result"
    }
   ],
   "source": [
    "\n",
    "\n",
    "# create a waveform for output to nidaq\n",
    "wave_mod = repeat(textbits, 2)*VMODMAX\n",
    "\n",
    "wave_clk = (arange(len(wave1), dtype=float) % 2) * VON\n",
    "wave_mod, wave_clk"
   ]
  },
  {
   "cell_type": "code",
   "execution_count": null,
   "metadata": {},
   "outputs": [],
   "source": [
    "# create and configure nidaq task\n",
    "\n",
    "task = nidaqmx.Task()\n",
    "\n",
    "task.ao_channels.add_ao_voltage_chan(\n",
    "    \"/%s/%s, /%s/%s\" % (DEV, CHAN_MOD, DEV, CHAN_CLK), \n",
    "    min_val=-1, \n",
    "    max_val=5)\n",
    "\n",
    "task.timing.cfg_samp_clk_timing(\n",
    "    rate=RATE*2, \n",
    "    samps_per_chan=len(wave1), \n",
    "    sample_mode=nidaqmx.constants.AcquisitionType.CONTINUOUS)\n",
    "\n",
    "task.write([wave1, wave2], timeout=10, auto_start=False)"
   ]
  },
  {
   "cell_type": "code",
   "execution_count": 21,
   "metadata": {},
   "outputs": [
    {
     "ename": "NameError",
     "evalue": "name 'task' is not defined",
     "output_type": "error",
     "traceback": [
      "\u001b[1;31m---------------------------------------------------------------------------\u001b[0m",
      "\u001b[1;31mNameError\u001b[0m                                 Traceback (most recent call last)",
      "\u001b[1;32m<ipython-input-21-4378c3f2a20a>\u001b[0m in \u001b[0;36m<module>\u001b[1;34m()\u001b[0m\n\u001b[1;32m----> 1\u001b[1;33m \u001b[0mtask\u001b[0m\u001b[1;33m.\u001b[0m\u001b[0mstart\u001b[0m\u001b[1;33m(\u001b[0m\u001b[1;33m)\u001b[0m\u001b[1;33m\u001b[0m\u001b[0m\n\u001b[0m\u001b[0;32m      2\u001b[0m \u001b[0mtask\u001b[0m\u001b[1;33m.\u001b[0m\u001b[0mwait_until_done\u001b[0m\u001b[1;33m(\u001b[0m\u001b[1;33m)\u001b[0m\u001b[1;33m\u001b[0m\u001b[0m\n\u001b[0;32m      3\u001b[0m \u001b[0mtask\u001b[0m\u001b[1;33m.\u001b[0m\u001b[0mstop\u001b[0m\u001b[1;33m(\u001b[0m\u001b[1;33m)\u001b[0m\u001b[1;33m\u001b[0m\u001b[0m\n",
      "\u001b[1;31mNameError\u001b[0m: name 'task' is not defined"
     ]
    }
   ],
   "source": [
    "# run nidaq task\n",
    "\n",
    "task.start()\n",
    "\n",
    "# task.stop()"
   ]
  },
  {
   "cell_type": "code",
   "execution_count": null,
   "metadata": {},
   "outputs": [],
   "source": [
    "task.stop()"
   ]
  }
 ],
 "metadata": {
  "kernelspec": {
   "display_name": "Python 3",
   "language": "python",
   "name": "python3"
  },
  "language_info": {
   "codemirror_mode": {
    "name": "ipython",
    "version": 3
   },
   "file_extension": ".py",
   "mimetype": "text/x-python",
   "name": "python",
   "nbconvert_exporter": "python",
   "pygments_lexer": "ipython3",
   "version": "3.6.8"
  }
 },
 "nbformat": 4,
 "nbformat_minor": 2
}
