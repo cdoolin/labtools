{
 "cells": [
  {
   "cell_type": "code",
   "execution_count": 1,
   "metadata": {},
   "outputs": [
    {
     "name": "stdout",
     "output_type": "stream",
     "text": [
      "Populating the interactive namespace from numpy and matplotlib\n"
     ]
    }
   ],
   "source": [
    "%pylab inline\n",
    "import nidaqmx"
   ]
  },
  {
   "cell_type": "code",
   "execution_count": 2,
   "metadata": {
    "scrolled": true
   },
   "outputs": [
    {
     "data": {
      "text/plain": [
       "(0.05, 0.11)"
      ]
     },
     "execution_count": 2,
     "metadata": {},
     "output_type": "execute_result"
    },
    {
     "data": {
      "image/png": "[encoded data removed]",
      "text/plain": [
       "<Figure size 432x288 with 1 Axes>"
      ]
     },
     "metadata": {
      "needs_background": "light"
     },
     "output_type": "display_data"
    }
   ],
   "source": [
    "RATE = 800e3\n",
    "s = RATE\n",
    "ms = RATE / 1e3\n",
    "us = RATE / 1e6\n",
    "\n",
    "\n",
    "\n",
    "ON = [3.3]\n",
    "OFF = [0]\n",
    "\n",
    "Ton  = 10*ms\n",
    "Toff = 100*ms\n",
    "Tpre = 5*ms\n",
    "Tcap = 10*ms\n",
    "\n",
    "wave_aom = [\n",
    "    OFF * int(Toff),\n",
    "    ON * int(Ton),\n",
    "]\n",
    "wave_aom = hstack(wave_aom)\n",
    "\n",
    "wave_trig = [\n",
    "    OFF * int(Toff - Tpre),\n",
    "    ON * int(Tpre + Tcap),\n",
    "    OFF * int(Ton - Tcap),\n",
    "]\n",
    "wave_trig = hstack(wave_trig)\n",
    "\n",
    "\n",
    "figure()\n",
    "ts = arange(len(wave_aom)) / RATE\n",
    "plot(ts, wave_aom)\n",
    "plot(ts, wave_trig)\n",
    "\n",
    "xlim(.05, 0.11)"
   ]
  },
  {
   "cell_type": "code",
   "execution_count": 3,
   "metadata": {},
   "outputs": [
    {
     "data": {
      "text/plain": [
       "88000"
      ]
     },
     "execution_count": 3,
     "metadata": {},
     "output_type": "execute_result"
    }
   ],
   "source": [
    "# create and configure nidaq task\n",
    "DEV = \"Dev2\"\n",
    "CHAN_AOM = \"ao0\"\n",
    "CHAN_TRIG = \"ao1\"\n",
    "VMAX = 5.\n",
    "\n",
    "\n",
    "\n",
    "outtask = nidaqmx.Task()\n",
    "\n",
    "outtask.ao_channels.add_ao_voltage_chan(\n",
    "    f\"/{DEV}/{CHAN_AOM},/{DEV}/{CHAN_TRIG}\", \n",
    "    min_val=-VMAX, max_val=VMAX)\n",
    "\n",
    "outtask.timing.cfg_samp_clk_timing(\n",
    "    rate=RATE, \n",
    "    samps_per_chan=len(wave_aom),\n",
    "    sample_mode=nidaqmx.constants.AcquisitionType.CONTINUOUS)\n",
    "\n",
    "outtask.write([list(wave_aom), list(wave_trig)], timeout=10, auto_start=True)"
   ]
  },
  {
   "cell_type": "code",
   "execution_count": 4,
   "metadata": {},
   "outputs": [
    {
     "data": {
      "text/plain": [
       "array([0. , 0. , 0. , ..., 3.3, 3.3, 3.3])"
      ]
     },
     "execution_count": 4,
     "metadata": {},
     "output_type": "execute_result"
    }
   ],
   "source": [
    "wave_aom"
   ]
  },
  {
   "cell_type": "code",
   "execution_count": 5,
   "metadata": {},
   "outputs": [
    {
     "data": {
      "text/plain": [
       "(94600, 94600)"
      ]
     },
     "execution_count": 5,
     "metadata": {},
     "output_type": "execute_result"
    }
   ],
   "source": [
    "len(wave_aom), len(wave_trig)"
   ]
  },
  {
   "cell_type": "code",
   "execution_count": null,
   "metadata": {},
   "outputs": [],
   "source": []
  }
 ],
 "metadata": {
  "kernelspec": {
   "display_name": "Python 3",
   "language": "python",
   "name": "python3"
  },
  "language_info": {
   "codemirror_mode": {
    "name": "ipython",
    "version": 3
   },
   "file_extension": ".py",
   "mimetype": "text/x-python",
   "name": "python",
   "nbconvert_exporter": "python",
   "pygments_lexer": "ipython3",
   "version": "3.6.8"
  }
 },
 "nbformat": 4,
 "nbformat_minor": 2
}
