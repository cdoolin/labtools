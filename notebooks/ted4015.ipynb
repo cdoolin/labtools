{
 "cells": [
  {
   "cell_type": "code",
   "execution_count": 1,
   "metadata": {},
   "outputs": [],
   "source": [
    "import pyvisa\n",
    "import datetime\n",
    "import time\n",
    "import msvcrt\n",
    "\n",
    "\n",
    "rm = pyvisa.ResourceManager()\n",
    "\n",
    "try:\n",
    "    i = rm.open_resource(\"USB0::0x1313::0x8048::M00324477::INSTR\")\n",
    "except:\n",
    "    print(\"could not open instrument\")\n",
    "    import sys\n",
    "    sys.exit(0)\n"
   ]
  },
  {
   "cell_type": "code",
   "execution_count": 36,
   "metadata": {},
   "outputs": [
    {
     "data": {
      "text/plain": [
       "'1.083790E+02\\n'"
      ]
     },
     "execution_count": 36,
     "metadata": {},
     "output_type": "execute_result"
    }
   ],
   "source": [
    "# read resistance?\n",
    "i.write(\"CONF:TSEN\")\n",
    "i.query(\"READ?\")"
   ]
  },
  {
   "cell_type": "code",
   "execution_count": 37,
   "metadata": {},
   "outputs": [
    {
     "data": {
      "text/plain": [
       "'2.150628E+01\\n'"
      ]
     },
     "execution_count": 37,
     "metadata": {},
     "output_type": "execute_result"
    }
   ],
   "source": [
    "# read temperature\n",
    "i.write(\"CONF:TEMP\")\n",
    "i.query(\"READ?\")"
   ]
  },
  {
   "cell_type": "code",
   "execution_count": 40,
   "metadata": {},
   "outputs": [
    {
     "data": {
      "text/plain": [
       "(15, <StatusCode.success: 0>)"
      ]
     },
     "execution_count": 40,
     "metadata": {},
     "output_type": "execute_result"
    }
   ],
   "source": [
    "\n",
    "\n",
    "i.write(\"SOUR:TEMP 35C\")\n"
   ]
  },
  {
   "cell_type": "code",
   "execution_count": 44,
   "metadata": {},
   "outputs": [
    {
     "data": {
      "text/plain": [
       "1533243315.6689756"
      ]
     },
     "execution_count": 44,
     "metadata": {},
     "output_type": "execute_result"
    }
   ],
   "source": [
    "import time\n",
    "time.time()"
   ]
  },
  {
   "cell_type": "code",
   "execution_count": 49,
   "metadata": {},
   "outputs": [
    {
     "name": "stdout",
     "output_type": "stream",
     "text": [
      "setting temp timed out\n"
     ]
    }
   ],
   "source": [
    "import time\n",
    "Terr = .02\n",
    "timeout = 2 # seconds\n",
    "\n",
    "T = 20\n",
    "\n",
    "\n",
    "i.write(\"SOUR:TEMP %.2fC\" % T)\n",
    "\n",
    "time0 = time.time()\n",
    "go = True\n",
    "go_to = True\n",
    "while go and go_to:\n",
    "    i.write(\"CONF:TEMP\")\n",
    "    Tmeas = float(i.query(\"READ?\").strip())\n",
    "    go = abs(T - Tmeas) > Terr\n",
    "    go_to = abs(time.time() - time0) < timeout\n",
    "\n",
    "if not go_to:\n",
    "    print(\"setting temp timed out\")"
   ]
  },
  {
   "cell_type": "code",
   "execution_count": 64,
   "metadata": {},
   "outputs": [],
   "source": [
    "def setT(T, Terr=0.05, timeout=30, wait=True, settling=3, rate=10):\n",
    "    Nmeas = rate*settling\n",
    "    \n",
    "    T = float(T)\n",
    "    i.write(\"SOUR:TEMP %.2fC\" % T)\n",
    "\n",
    "    time0 = time.time()\n",
    "    timedout = False\n",
    "    n = 0\n",
    "    \n",
    "    while n < Nmeas and not timedout:\n",
    "        time.sleep(1./float(rate))\n",
    "        i.write(\"CONF:TEMP\")\n",
    "        Tmeas = float(i.query(\"READ?\").strip())\n",
    "#         print(Tmeas)\n",
    "        \n",
    "        if abs(T - Tmeas) < Terr:\n",
    "            n += 1\n",
    "        else:\n",
    "            n = 0\n",
    "            \n",
    "        timedout = abs(time.time() - time0) > timeout\n",
    "\n",
    "    if timedout:\n",
    "        print(\"setting temp timed out\")\n",
    "        \n",
    "setT(31)"
   ]
  },
  {
   "cell_type": "code",
   "execution_count": 65,
   "metadata": {},
   "outputs": [
    {
     "ename": "NameError",
     "evalue": "name 'linspace' is not defined",
     "output_type": "error",
     "traceback": [
      "\u001b[1;31m---------------------------------------------------------------------------\u001b[0m",
      "\u001b[1;31mNameError\u001b[0m                                 Traceback (most recent call last)",
      "\u001b[1;32m<ipython-input-65-b4ba15dd4e70>\u001b[0m in \u001b[0;36m<module>\u001b[1;34m()\u001b[0m\n\u001b[1;32m----> 1\u001b[1;33m \u001b[0mlinspace\u001b[0m\u001b[1;33m(\u001b[0m\u001b[1;36m10.5\u001b[0m\u001b[1;33m,\u001b[0m \u001b[1;36m12.5\u001b[0m \u001b[1;33m+\u001b[0m \u001b[1;36m.1\u001b[0m\u001b[1;33m,\u001b[0m \u001b[1;36m6\u001b[0m\u001b[1;33m)\u001b[0m\u001b[1;33m\u001b[0m\u001b[0m\n\u001b[0m",
      "\u001b[1;31mNameError\u001b[0m: name 'linspace' is not defined"
     ]
    }
   ],
   "source": []
  },
  {
   "cell_type": "code",
   "execution_count": null,
   "metadata": {},
   "outputs": [],
   "source": []
  }
 ],
 "metadata": {
  "kernelspec": {
   "display_name": "Python 3",
   "language": "python",
   "name": "python3"
  },
  "language_info": {
   "codemirror_mode": {
    "name": "ipython",
    "version": 3
   },
   "file_extension": ".py",
   "mimetype": "text/x-python",
   "name": "python",
   "nbconvert_exporter": "python",
   "pygments_lexer": "ipython3",
   "version": "3.5.2"
  }
 },
 "nbformat": 4,
 "nbformat_minor": 2
}
